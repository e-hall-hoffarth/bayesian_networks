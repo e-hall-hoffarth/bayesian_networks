{
 "cells": [
  {
   "cell_type": "code",
   "execution_count": null,
   "metadata": {},
   "outputs": [],
   "source": [
    "from state_space_estimation.roles import roles\n",
    "from state_space_estimation.estimation import estimation\n",
    "import pandas as pd\n",
    "import numpy as np\n",
    "import seaborn as sn\n",
    "import matplotlib.pyplot as plt\n",
    "%load_ext autoreload"
   ]
  },
  {
   "cell_type": "code",
   "execution_count": null,
   "metadata": {},
   "outputs": [],
   "source": [
    "rbc_endo = pd.read_csv('../data/rbc_endo.csv', header=None).T.values\n",
    "rbc_exo = pd.read_csv('../data/rbc_exo.csv', header=None).values\n",
    "endo_names = ['y', 'c', 'k', 'l', 'z', 'g', 'r', 'w', 'i']\n",
    "exo_names = ['eps_z', 'eps_g']\n",
    "rbc_names = endo_names + exo_names\n",
    "rbc = pd.DataFrame(np.append(rbc_endo, rbc_exo, axis=1), columns=rbc_names)\n",
    "rbc.drop(['eps_z', 'eps_g'], axis=1, inplace=True)\n",
    "\n",
    "rbc = rbc.apply(lambda x: x - x.mean(), axis=0)"
   ]
  },
  {
   "cell_type": "code",
   "execution_count": null,
   "metadata": {},
   "outputs": [],
   "source": [
    "cor = rbc.corr()\n",
    "for i in range(cor.shape[0]):\n",
    "    cor.iloc[i,i] = np.nan\n",
    "cor[cor >= 0.999].dropna(how='all', axis=0).dropna(how='all', axis=1)"
   ]
  },
  {
   "cell_type": "code",
   "execution_count": null,
   "metadata": {},
   "outputs": [],
   "source": [
    "shift_vars = rbc.columns.values\n",
    "shift_1 = rbc.loc[:,shift_vars].shift()\n",
    "shift_1.columns = [str(col) + '_1' for col in shift_1.columns]\n",
    "shift_2 = rbc.loc[:,shift_vars].shift(periods=2)\n",
    "shift_2.columns = [str(col) + '_2' for col in shift_2.columns]\n",
    "rbc = pd.concat([rbc, shift_1, shift_2], axis=1)\n",
    "rbc = rbc.iloc[2:,:]"
   ]
  },
  {
   "cell_type": "code",
   "execution_count": null,
   "metadata": {},
   "outputs": [],
   "source": [
    "rbc.to_csv('../data/rbc.csv', index=False)"
   ]
  },
  {
   "cell_type": "code",
   "execution_count": null,
   "metadata": {},
   "outputs": [],
   "source": [
    "nk_endo = pd.read_csv('../data/nk_endo.csv', header=None).T.values\n",
    "nk_exo = pd.read_csv('../data/nk_exo.csv', header=None).values\n",
    "endo_names = ['pi', 'y_gap', 'y_nat', 'y', 'yhat', 'r_nat', 'r_real', 'i', 'n', 'm_real',\n",
    "              'm_nominal', 'nu', 'a', 'z', 'p', 'w', 'c', 'w_real', 'mu', 'mu_hat']\n",
    "exo_names = ['eps_a', 'eps_nu', 'eps_z']\n",
    "nk_names = endo_names + exo_names\n",
    "nk = pd.DataFrame(np.append(nk_endo, nk_exo, axis=1), columns=nk_names)\n",
    "nk.drop(['eps_a', 'eps_nu', 'eps_z'], axis=1, inplace=True)\n",
    "nk.drop(['c', 'mu_hat', 'yhat', 'y_nat', 'y_gap', 'm_nominal', 'w'], axis=1, inplace=True) # Drop because of co-linearity\n",
    "\n",
    "nk = nk.apply(lambda x: x - x.mean(), axis=0)"
   ]
  },
  {
   "cell_type": "code",
   "execution_count": null,
   "metadata": {},
   "outputs": [],
   "source": [
    "cor = nk.corr()\n",
    "for i in range(cor.shape[0]):\n",
    "    cor.iloc[i,i] = np.nan\n",
    "cor[cor >= 0.999].dropna(how='all', axis=0).dropna(how='all', axis=1)"
   ]
  },
  {
   "cell_type": "code",
   "execution_count": null,
   "metadata": {},
   "outputs": [],
   "source": [
    "shift_vars = nk.columns.values\n",
    "shift_1 = nk.loc[:,shift_vars].shift()\n",
    "shift_1.columns = [str(col) + '_1' for col in shift_1.columns]\n",
    "shift_2 = nk.loc[:,shift_vars].shift(periods=2)\n",
    "shift_2.columns = [str(col) + '_2' for col in shift_2.columns]\n",
    "nk = pd.concat([nk, shift_1, shift_2], axis=1)\n",
    "nk = nk.iloc[2:,:]"
   ]
  },
  {
   "cell_type": "code",
   "execution_count": null,
   "metadata": {},
   "outputs": [],
   "source": [
    "nk.to_csv('../data/nk.csv', index=False)"
   ]
  },
  {
   "cell_type": "code",
   "execution_count": null,
   "metadata": {},
   "outputs": [],
   "source": [
    "sw_endo = pd.read_csv('../data/sw_endo.csv', header=None).T.values\n",
    "sw_exo = pd.read_csv('../data/sw_exo.csv', header=None).values\n",
    "endo_names = ['labobs', 'robs', 'pinfobs', 'dy', 'dc', 'dinve', 'dw', \n",
    "              'ewma', 'epinfma', 'zcapf', 'rkf', 'kf', 'pkf', 'cf', \n",
    "              'invef', 'yf', 'labf', 'wf', 'rrf', 'mc', 'zcap', 'rk', \n",
    "              'k', 'pk', 'c', 'inve', 'y', 'lab', 'pinf', 'w', 'r', \n",
    "              'a', 'b', 'g', 'qs', 'ms', 'spinf', 'sw', 'kpf', 'kp']\n",
    "exo_names = ['ea', 'eb', 'eg', 'eqs', 'em', 'epinf', 'ew']\n",
    "sw_names = endo_names + exo_names\n",
    "sw = pd.DataFrame(np.append(sw_endo, sw_exo, axis=1), columns=sw_names)\n",
    "sw.drop(['robs', 'labobs', 'pinfobs', \n",
    "         'dy', 'dc', 'dw', 'dinve',\n",
    "         'ea', 'eb', 'eg', 'eqs', 'em', 'epinf', 'ew'], \n",
    "        axis=1, inplace=True)\n",
    "\n",
    "sw = sw.apply(lambda x: x - x.mean(), axis=0)\n",
    "\n",
    "shift_vars = sw.columns.values\n",
    "shift = sw.loc[:,shift_vars].shift()\n",
    "shift.columns = [str(col) + '_1' for col in shift.columns]\n",
    "sw = pd.concat([sw, shift], axis=1)\n",
    "sw = sw.iloc[1:,:]"
   ]
  },
  {
   "cell_type": "code",
   "execution_count": null,
   "metadata": {},
   "outputs": [],
   "source": [
    "cor = sw.corr()\n",
    "for i in range(cor.shape[0]):\n",
    "    cor.iloc[i,i] = np.nan\n",
    "cor[cor >= 0.999].dropna(how='all', axis=0).dropna(how='all', axis=1)"
   ]
  },
  {
   "cell_type": "code",
   "execution_count": null,
   "metadata": {},
   "outputs": [],
   "source": [
    "sw.to_csv('../data/sw.csv', index=False)"
   ]
  }
 ],
 "metadata": {
  "kernelspec": {
   "display_name": "Python 3",
   "language": "python",
   "name": "python3"
  },
  "language_info": {
   "codemirror_mode": {
    "name": "ipython",
    "version": 3
   },
   "file_extension": ".py",
   "mimetype": "text/x-python",
   "name": "python",
   "nbconvert_exporter": "python",
   "pygments_lexer": "ipython3",
   "version": "3.8.5-final"
  }
 },
 "nbformat": 4,
 "nbformat_minor": 4
}