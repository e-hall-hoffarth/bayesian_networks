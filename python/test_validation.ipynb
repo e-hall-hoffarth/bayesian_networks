{
 "cells": [
  {
   "cell_type": "code",
   "execution_count": null,
   "metadata": {},
   "outputs": [],
   "source": [
    "import pandas as pd\n",
    "import numpy as np\n",
    "import itertools\n",
    "from scipy.stats import multivariate_normal as mn\n",
    "from scipy.stats import norm\n",
    "import statsmodels.api as sm\n",
    "import warnings"
   ]
  },
  {
   "cell_type": "code",
   "execution_count": null,
   "metadata": {},
   "outputs": [],
   "source": [
    "def srivastava(data):\n",
    "    '''\n",
    "    Inputs:\n",
    "        data: np.ndarray\n",
    "            Residual correlation matrix\n",
    "    Performs:\n",
    "        Perform test T3* from Srivastava (2005) to test wheter\n",
    "        the corrleation matrix is diagonal\n",
    "    Returns:\n",
    "        float\n",
    "    '''\n",
    "    n = data.shape[0]\n",
    "    p = data.shape[1]\n",
    "    if p > 1:\n",
    "        S = np.cov(data.T)\n",
    "        a2_hat = np.sum(np.square(np.diag(S)))\n",
    "        a4_hat = np.sum(np.power(np.diag(S), 4))\n",
    "        a20_hat = (n/(p*(n+2)))*a2_hat\n",
    "        a40_hat = (1/p)*a4_hat\n",
    "        g3_hat = (n/(n-1))*((np.trace(np.dot(S,S))-(1/n)*(np.trace(S))**2)/(np.sum(np.square(np.diag(S)))))\n",
    "\n",
    "        with warnings.catch_warnings():\n",
    "            warnings.filterwarnings('ignore')\n",
    "            T3_hat = (n/2)*((g3_hat-1)/np.sqrt(1-(1/p)*(a40_hat/(a20_hat**2))))\n",
    "            if np.isnan(T3_hat): # Could have sqrt of negative, replace as in Wang et al.\n",
    "                T3_hat = (n/2)*((g3_hat-1)/np.sqrt(1-(a4_hat/(a2_hat**2))))\n",
    "\n",
    "        return T3_hat\n",
    "    else: # Test isn't meaningful, so do not exclude the model on this basis\n",
    "        return 0 "
   ]
  },
  {
   "cell_type": "code",
   "execution_count": null,
   "metadata": {},
   "outputs": [],
   "source": [
    "cors = [0]\n",
    "ms = [5, 25, 50]\n",
    "ns = [10, 100, 10000]\n",
    "ks = [1000]\n",
    "alphas = [0.01, 0.05]\n",
    "\n",
    "results = pd.DataFrame()\n",
    "\n",
    "for cor, m, n, k, alpha in itertools.product(cors, ms, ns, ks, alphas):\n",
    "    rejected = 0\n",
    "    for i in range(k):\n",
    "        cov = np.identity(m)\n",
    "        cov[cov == 0] = cor\n",
    "        sample = mn.rvs(cov=cov, size=n).reshape(n, -1)\n",
    "\n",
    "        t = srivastava(sample)\n",
    "        # if not valid:\n",
    "        if np.abs(t) > norm.ppf(1-(alpha/2)):\n",
    "            rejected += 1\n",
    "\n",
    "    emp_alpha = rejected/k\n",
    "\n",
    "    result = {'c': cor, 'm': m, 'n': n, 'k': k, 'a': alpha, 'es': emp_alpha, 'd': np.abs(alpha)-emp_alpha}\n",
    "    results = results.append(result, ignore_index=True)\n",
    "\n",
    "results = results.loc[:,['es', 'a', 'd', 'n', 'c', 'm', 'k']]"
   ]
  },
  {
   "cell_type": "code",
   "execution_count": null,
   "metadata": {},
   "outputs": [],
   "source": [
    "results['n'] = results['n'].astype(int)\n",
    "results['m'] = results['m'].astype(int)\n",
    "results['k'] = results['k'].astype(int)"
   ]
  },
  {
   "cell_type": "code",
   "execution_count": null,
   "metadata": {},
   "outputs": [],
   "source": [
    "results.to_csv('../text/latex/algo/files/test_validation_alpha.csv', index=False, float_format='%.3f')"
   ]
  },
  {
   "cell_type": "code",
   "execution_count": null,
   "metadata": {},
   "outputs": [],
   "source": [
    "cors = np.linspace(0.1, 1, 5)\n",
    "ms = [5, 25, 50]\n",
    "ns = [10, 100, 10000]\n",
    "ks = [1000]\n",
    "alphas = [0.01, 0.05]\n",
    "\n",
    "results = pd.DataFrame()\n",
    "\n",
    "for cor, m, n, k, alpha in itertools.product(cors, ms, ns, ks, alphas):\n",
    "    rejected = 0\n",
    "    for i in range(k):\n",
    "        cov = np.identity(m)\n",
    "        cov[cov == 0] = cor\n",
    "        sample = mn.rvs(cov=cov, size=n).reshape(n, -1)\n",
    "\n",
    "        t = srivastava(sample)\n",
    "        # if not valid:\n",
    "        if np.abs(t) > norm.ppf(1-(alpha/2)):\n",
    "            rejected += 1\n",
    "\n",
    "    emp_power = rejected/k\n",
    "\n",
    "    result = {'c': cor, 'm': m, 'n': n, 'k': k, 'a': alpha, 'ep': emp_power}\n",
    "    results = results.append(result, ignore_index=True)\n",
    "\n",
    "results = results.loc[:,['ep', 'a', 'n', 'c', 'm', 'k']]"
   ]
  },
  {
   "cell_type": "code",
   "execution_count": null,
   "metadata": {},
   "outputs": [],
   "source": [
    "results['n'] = results['n'].astype(int)\n",
    "results['m'] = results['m'].astype(int)\n",
    "results['k'] = results['k'].astype(int)"
   ]
  },
  {
   "cell_type": "code",
   "execution_count": null,
   "metadata": {},
   "outputs": [],
   "source": [
    "results.to_csv('../text/latex/algo/files/test_validation_power.csv', index=False, float_format='%.3f')"
   ]
  }
 ],
 "metadata": {
  "kernelspec": {
   "display_name": "Python 3",
   "language": "python",
   "name": "python3"
  },
  "language_info": {
   "codemirror_mode": {
    "name": "ipython",
    "version": 3
   },
   "file_extension": ".py",
   "mimetype": "text/x-python",
   "name": "python",
   "nbconvert_exporter": "python",
   "pygments_lexer": "ipython3",
   "version": "3.8.5"
  }
 },
 "nbformat": 4,
 "nbformat_minor": 4
}
