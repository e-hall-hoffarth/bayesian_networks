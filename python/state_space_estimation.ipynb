{
 "cells": [
  {
   "cell_type": "code",
   "execution_count": null,
   "metadata": {},
   "outputs": [],
   "source": [
    "from state_space_estimation.dag import dag\n",
    "from state_space_estimation.roles import roles\n",
    "from state_space_estimation.estimation import estimation\n",
    "import pandas as pd\n",
    "import numpy as np\n",
    "from sklearn.linear_model import LinearRegression\n",
    "%load_ext autoreload"
   ]
  },
  {
   "cell_type": "code",
   "execution_count": null,
   "metadata": {},
   "outputs": [],
   "source": [
    "rbc = pd.read_csv('../data/rbc_100k.csv')\n",
    "rbc = rbc.drop(['Unnamed: 0', 'eps_g', 'eps_z'], axis=1)\n",
    "rbc.columns = [col.replace(\" \", \"\") for col in rbc.columns]\n",
    "\n",
    "shift_vars = rbc.columns.values\n",
    "shift = rbc.loc[:,shift_vars].shift()\n",
    "shift.columns = [str(col) + '_1' for col in shift.columns]\n",
    "rbc = pd.concat([rbc, shift], axis=1)\n",
    "rbc = rbc.iloc[1:,:]\n",
    "\n",
    "rbc = rbc.iloc[:1000,:]\n",
    "rbc = rbc.apply(lambda x: x - x.mean(), axis=0)"
   ]
  },
  {
   "cell_type": "code",
   "execution_count": null,
   "metadata": {
    "scrolled": true
   },
   "outputs": [],
   "source": [
    "%autoreload\n",
    "rbc_est = estimation(rbc)\n",
    "for i in range(int(len(rbc.columns.values)/2) - 1):\n",
    "    print('Evaluating models with {} states'.format(i))\n",
    "    rbc_results = rbc_est.choose_states_parallel(i)\n",
    "    if rbc_results[rbc_results['valid']].shape[0] > 0:\n",
    "        print('Found valid model with {} states'.format(i))\n",
    "        break"
   ]
  },
  {
   "cell_type": "code",
   "execution_count": null,
   "metadata": {},
   "outputs": [],
   "source": [
    "rbc_results[rbc_results['valid']]"
   ]
  },
  {
   "cell_type": "code",
   "execution_count": null,
   "metadata": {},
   "outputs": [],
   "source": [
    "nk = pd.read_csv('../data/gali.csv')\n",
    "nk.columns = [col.replace(\" \", \"\") for col in nk.columns]\n",
    "nk = nk.drop(['Unnamed:0', \n",
    "              'eps_a', 'eps_z', 'eps_nu',\n",
    "              'pi_ann', 'r_nat_ann', 'r_real_ann', 'm_growth_ann', 'i_ann',\n",
    "              'y_gap', 'mu_hat', 'yhat',\n",
    "              'm_nominal'], \n",
    "             axis=1)\n",
    "\n",
    "shift_vars = nk.columns.values\n",
    "shift = nk.loc[:,shift_vars].shift()\n",
    "shift.columns = [str(col) + '_1' for col in shift.columns]\n",
    "nk = pd.concat([nk, shift], axis=1)\n",
    "nk = nk.iloc[1:,:]\n",
    "\n",
    "nk = nk.iloc[:1000,:]\n",
    "nk = nk.apply(lambda x: x - x.mean(), axis=0)"
   ]
  },
  {
   "cell_type": "code",
   "execution_count": null,
   "metadata": {},
   "outputs": [],
   "source": [
    "%autoreload\n",
    "nk_est = estimation(nk)\n",
    "for i in range(int(len(nk.columns.values)/2) - 1):\n",
    "    print('Evaluating models with {} states'.format(i))\n",
    "    nk_results = nk_est.choose_states_parallel(i)\n",
    "    if nk_results[nk_results['valid']].shape[0] > 0:\n",
    "        print('Found valid model with {} states'.format(i))\n",
    "        break"
   ]
  },
  {
   "cell_type": "code",
   "execution_count": null,
   "metadata": {},
   "outputs": [],
   "source": [
    "nk_results[nk_results['valid']]"
   ]
  },
  {
   "cell_type": "code",
   "execution_count": null,
   "metadata": {},
   "outputs": [],
   "source": [
    "cpi = pd.read_csv('../data/real_data/CPIAUCSL.csv', index_col='DATE').replace('.', np.nan).astype(np.float64)\n",
    "i__ = pd.read_csv('../data/real_data/DFF.csv', index_col='DATE').replace('.', np.nan).astype(np.float64)\n",
    "rb_ = pd.read_csv('../data/real_data/DGS10.csv', index_col='DATE').replace('.', np.nan).astype(np.float64)\n",
    "gr_ = pd.read_csv('../data/real_data/GCEC1.csv', index_col='DATE').replace('.', np.nan).astype(np.float64)\n",
    "yr_ = pd.read_csv('../data/real_data/GDPC1.csv', index_col='DATE').replace('.', np.nan).astype(np.float64)\n",
    "ir_ = pd.read_csv('../data/real_data/GPDIC1.csv', index_col='DATE').replace('.', np.nan).astype(np.float64)\n",
    "wr_ = pd.read_csv('../data/real_data/LES1252881600Q.csv', index_col='DATE').replace('.', np.nan).astype(np.float64)\n",
    "n__ = pd.read_csv('../data/real_data/LFWA64TTUSM647S.csv', index_col='DATE').replace('.', np.nan).astype(np.float64)\n",
    "rk_ = pd.read_csv('../data/real_data/NASDAQCOM.csv', index_col='DATE').replace('.', np.nan).astype(np.float64)\n",
    "kr_ = pd.read_csv('../data/real_data/RKNANPUSA666NRUG.csv', index_col='DATE').replace('.', np.nan).astype(np.float64)\n",
    "tfp = pd.read_csv('../data/real_data/RTFPNAUSA632NRUG.csv', index_col='DATE').replace('.', np.nan).astype(np.float64)\n",
    "une = pd.read_csv('../data/real_data/UNRATE.csv', index_col='DATE').replace('.', np.nan).astype(np.float64)\n",
    "l__ = pd.read_csv('../data/real_data/CLF16OV.csv', index_col='DATE').replace('.', np.nan).astype(np.float64)\n",
    "cr_ = pd.read_csv('../data/real_data/PCEPI.csv', index_col='DATE').replace('.', np.nan).astype(np.float64)\n",
    "ts = [cpi, i__, rb_, gr_, yr_, ir_, wr_, n__, rk_, kr_, tfp, une, l__, cr_]\n",
    "for t in ts:\n",
    "    t.index = pd.to_datetime(t.index)\n",
    "    \n",
    "# Calculate inflation from CPI\n",
    "cpi = cpi.join(cpi.shift(), rsuffix='_1')\n",
    "cpi = pd.DataFrame(cpi.apply(lambda x: (x[0] - x[1])/x[1], axis=1), columns=['pi']).reindex(yr_.index)\n",
    "# Convert to quarterly inflation\n",
    "cpi = cpi.rolling('90D').sum().reindex(yr_.index)\n",
    "# Convert to average quarterly federal funds rate\n",
    "i__ = i__.rolling('90D').mean().reindex(yr_.index)\n",
    "i__.columns = ['rm']\n",
    "# Convert to average quarterly 10y bond rate\n",
    "rb_ = rb_.resample('D').ffill().rolling('90D').mean().reindex(yr_.index)\n",
    "rb_.columns = ['rb']\n",
    "# Real governnment expendiature\n",
    "gr_ = gr_.reindex(yr_.index)\n",
    "gr_.columns = ['g']\n",
    "# Real GDP \n",
    "yr_ = yr_\n",
    "yr_.columns = ['y']\n",
    "# Real investment\n",
    "ir_ = ir_.reindex(yr_.index)\n",
    "ir_.columns = ['i']\n",
    "# Real (median) Wages\n",
    "wr_ = wr_.reindex(yr_.index)\n",
    "wr_.columns = ['w']\n",
    "# Population\n",
    "n__ = n__.rolling('90D').sum().reindex(yr_.index)\n",
    "n__.columns = ['n']\n",
    "# Real return to capital (estimated via NASDAQ)\n",
    "rk_ = rk_.resample('D').ffill()\n",
    "rk_ = rk_.join(rk_.shift(), rsuffix='_1').join(cpi, how='right')\n",
    "rk_['rk'] = ((rk_['NASDAQCOM'] - rk_['NASDAQCOM_1']) / rk_['NASDAQCOM_1']) - (cpi['pi']/90)\n",
    "rk_ = pd.DataFrame(rk_['rk'], columns=['rk']).reindex(yr_.index) \n",
    "# Real capital stock\n",
    "kr_ = kr_.reindex(yr_.index).interpolate(method='polynomial', order=2)\n",
    "# kr_ = (kr_.iloc[:,0] - kr_.iloc[:,0].shift()).to_frame().dropna()\n",
    "kr_.columns = ['k']\n",
    "# Total factor productivity\n",
    "tfp = tfp.reindex(yr_.index).interpolate(method='polynomial', order=2)\n",
    "tfp.columns = ['z']\n",
    "# Unemployment\n",
    "une = une.rolling('90D').mean().reindex(yr_.index)\n",
    "une.columns = ['u']\n",
    "# Total Labor\n",
    "l__ = l__.rolling('90D').mean().reindex(yr_.index)\n",
    "l__.columns = ['l']\n",
    "# Real Consumption\n",
    "cr_ = cr_.rolling('90D').mean().reindex(yr_.index)\n",
    "cr_.columns = ['c']\n",
    "\n",
    "ts = [cpi, i__, rb_, gr_, yr_, ir_, wr_, n__, rk_, kr_, tfp, une, l__, cr_]\n",
    "\n",
    "# Transform to deviations from x lag trend\n",
    "lags = 1\n",
    "for i in range(len(ts)):\n",
    "    t = ts[i].dropna()\n",
    "    if not any([x <=0 for x in t.iloc[:,0]]):\n",
    "        t = np.log(t)\n",
    "    model = LinearRegression(fit_intercept=False)\n",
    "    X = np.array([t.shift(i+1).iloc[lags:,0].values.reshape(-1,1) for i in range(lags)]).reshape(-1, lags)   \n",
    "    y = t.iloc[lags:,0].values.reshape(-1,1)\n",
    "    model.fit(X, y)\n",
    "    ts[i] = pd.DataFrame(y - model.predict(X),\n",
    "                         index=t.dropna().iloc[lags:,0].index, \n",
    "                         columns=t.columns)\n",
    "    \n",
    "real_data = pd.DataFrame(index=yr_.index)\n",
    "for t in ts:\n",
    "    real_data = real_data.join(t, how='left')\n",
    "real_data = real_data.interpolate().loc['1985-01-01':'2005-01-01']\n",
    "real_data = real_data.apply(lambda x: x - x.mean())\n",
    "\n",
    "shift_vars = real_data.columns.values\n",
    "shift = real_data.loc[:,shift_vars].shift()\n",
    "shift.columns = [str(col) + '_1' for col in shift.columns]\n",
    "real_data = pd.concat([real_data, shift], axis=1)\n",
    "real_data = real_data.iloc[1:,:]"
   ]
  },
  {
   "cell_type": "code",
   "execution_count": null,
   "metadata": {},
   "outputs": [],
   "source": [
    "%autoreload\n",
    "real_est = estimation(real_data)\n",
    "for i in range(int(len(real_data.columns.values)/2) - 1):\n",
    "    print('Evaluating models with {} states'.format(i))\n",
    "    real_results = real_est.choose_states_parallel(i)\n",
    "    if real_results[real_results['valid']].shape[0] > 0:\n",
    "        print('Found valid model with {} states'.format(i))\n",
    "        break"
   ]
  }
 ],
 "metadata": {
  "kernelspec": {
   "display_name": "Python 3",
   "language": "python",
   "name": "python3"
  },
  "language_info": {
   "codemirror_mode": {
    "name": "ipython",
    "version": 3
   },
   "file_extension": ".py",
   "mimetype": "text/x-python",
   "name": "python",
   "nbconvert_exporter": "python",
   "pygments_lexer": "ipython3",
   "version": "3.8.3"
  }
 },
 "nbformat": 4,
 "nbformat_minor": 4
}
