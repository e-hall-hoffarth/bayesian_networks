{
 "cells": [
  {
   "cell_type": "code",
   "execution_count": null,
   "metadata": {},
   "outputs": [],
   "source": [
    "from state_space_estimation.dag import dag\n",
    "from state_space_estimation.roles import roles\n",
    "from state_space_estimation.estimation import estimation\n",
    "import pandas as pd\n",
    "import numpy as np\n",
    "%load_ext autoreload"
   ]
  },
  {
   "cell_type": "code",
   "execution_count": null,
   "metadata": {},
   "outputs": [],
   "source": [
    "rbc = pd.read_csv('C:/Users/ehall/Documents/thesis/bayesian_networks/data/rbc_100k.csv')\n",
    "rbc = rbc.drop(['Unnamed: 0', 'eps_g', 'eps_z'], axis=1)\n",
    "rbc.columns = [col.replace(\" \", \"\") for col in rbc.columns]\n",
    "\n",
    "shift_vars = rbc.columns.values\n",
    "shift = rbc.loc[:,shift_vars].shift()\n",
    "shift.columns = [str(col) + '_1' for col in shift.columns]\n",
    "rbc = pd.concat([rbc, shift], axis=1)\n",
    "rbc = rbc.iloc[1:,:]\n",
    "\n",
    "rbc = rbc.iloc[:1000,:]\n",
    "rbc = rbc.apply(lambda x: x - x.mean(), axis=0)"
   ]
  },
  {
   "cell_type": "code",
   "execution_count": null,
   "metadata": {},
   "outputs": [],
   "source": [
    "%autoreload\n",
    "rbc_est = estimation(rbc)\n",
    "rbc_est.choose_states_parallel()"
   ]
  },
  {
   "cell_type": "code",
   "execution_count": null,
   "metadata": {},
   "outputs": [],
   "source": [
    "rbc_est.results[rbc_est.results['valid']]"
   ]
  },
  {
   "cell_type": "code",
   "execution_count": null,
   "metadata": {},
   "outputs": [],
   "source": [
    "nk = pd.read_csv('C:/Users/ehall/Documents/thesis/bayesian_networks/data/gali.csv')\n",
    "nk.columns = [col.replace(\" \", \"\") for col in nk.columns]\n",
    "nk = nk.drop(['Unnamed:0', \n",
    "              'eps_a', 'eps_z', 'eps_nu',\n",
    "              'pi_ann', 'r_nat_ann', 'r_real_ann', 'm_growth_ann', 'i_ann',\n",
    "              'y_gap', 'mu_hat', 'yhat',\n",
    "              'm_nominal'], \n",
    "             axis=1)\n",
    "\n",
    "shift_vars = nk.columns.values\n",
    "shift = nk.loc[:,shift_vars].shift()\n",
    "shift.columns = [str(col) + '_1' for col in shift.columns]\n",
    "nk = pd.concat([nk, shift], axis=1)\n",
    "nk = nk.iloc[1:,:]\n",
    "\n",
    "nk = nk.iloc[:1000,:]\n",
    "nk = nk.apply(lambda x: x - x.mean(), axis=0)"
   ]
  },
  {
   "cell_type": "code",
   "execution_count": null,
   "metadata": {},
   "outputs": [],
   "source": [
    "%autoreload\n",
    "nk_est = estimation(nk)\n",
    "nk_est.choose_states()"
   ]
  },
  {
   "cell_type": "code",
   "execution_count": null,
   "metadata": {},
   "outputs": [],
   "source": [
    "nk_est.results[nk_est.results['valid']]"
   ]
  }
 ],
 "metadata": {
  "kernelspec": {
   "display_name": "Python 3",
   "language": "python",
   "name": "python3"
  },
  "language_info": {
   "codemirror_mode": {
    "name": "ipython",
    "version": 3
   },
   "file_extension": ".py",
   "mimetype": "text/x-python",
   "name": "python",
   "nbconvert_exporter": "python",
   "pygments_lexer": "ipython3",
   "version": "3.8.3"
  }
 },
 "nbformat": 4,
 "nbformat_minor": 4
}
