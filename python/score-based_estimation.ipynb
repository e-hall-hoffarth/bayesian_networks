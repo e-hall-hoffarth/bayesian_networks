{
 "cells": [
  {
   "cell_type": "code",
   "execution_count": 1,
   "id": "fe800c7f",
   "metadata": {},
   "outputs": [],
   "source": [
    "import pandas as pd\n",
    "pd.options.display.float_format = '{:20,.2f}'.format"
   ]
  },
  {
   "cell_type": "code",
   "execution_count": 2,
   "id": "7bb974f4",
   "metadata": {},
   "outputs": [],
   "source": [
    "data = pd.read_csv('../data/rbc_False_score_0.05_results.csv')\n",
    "data.drop('Unnamed: 0', axis=1, inplace=True)"
   ]
  },
  {
   "cell_type": "code",
   "execution_count": 19,
   "id": "cab405c4",
   "metadata": {},
   "outputs": [
    {
     "data": {
      "text/plain": [
       "(16866, 10)"
      ]
     },
     "execution_count": 19,
     "metadata": {},
     "output_type": "execute_result"
    }
   ],
   "source": [
    "data.shape"
   ]
  },
  {
   "cell_type": "markdown",
   "id": "9bfa99b1",
   "metadata": {},
   "source": [
    "# BIC"
   ]
  },
  {
   "cell_type": "code",
   "execution_count": 20,
   "id": "044d427e",
   "metadata": {},
   "outputs": [],
   "source": [
    "data_bic = data.sort_values(by='bic', ascending=False).reset_index()"
   ]
  },
  {
   "cell_type": "code",
   "execution_count": 21,
   "id": "f064467f",
   "metadata": {},
   "outputs": [
    {
     "name": "stdout",
     "output_type": "stream",
     "text": [
      "  endo_states exo_states                  bic\n",
      "0       ['r']         []         4,297,163.84\n",
      "1          []      ['r']         4,279,591.02\n",
      "2       ['l']         []         4,136,639.26\n",
      "3       ['g']         []         4,121,708.70\n",
      "4          []      ['l']         4,118,845.19\n",
      "5          []      ['g']         4,115,421.56\n",
      "6       ['i']         []         3,824,169.94\n",
      "7       ['l']      ['r']         3,806,905.97\n",
      "8       ['r']      ['l']         3,781,448.32\n",
      "9          []      ['i']         3,754,446.51\n"
     ]
    }
   ],
   "source": [
    "print(data_bic.head(10).loc[:,['endo_states', 'exo_states', 'bic']])"
   ]
  },
  {
   "cell_type": "code",
   "execution_count": 22,
   "id": "dc9e965e",
   "metadata": {},
   "outputs": [
    {
     "data": {
      "text/plain": [
       "6352"
      ]
     },
     "execution_count": 22,
     "metadata": {},
     "output_type": "execute_result"
    }
   ],
   "source": [
    "data_bic[(data_bic['endo_states'] == \"['k']\") & (data_bic['exo_states'] == \"['z', 'g']\")].index[0]"
   ]
  },
  {
   "cell_type": "markdown",
   "id": "e163ef17",
   "metadata": {},
   "source": [
    "## AIC"
   ]
  },
  {
   "cell_type": "code",
   "execution_count": 26,
   "id": "c428afe7",
   "metadata": {},
   "outputs": [],
   "source": [
    "data_aic = data.sort_values(by='aic', ascending=False).reset_index()"
   ]
  },
  {
   "cell_type": "code",
   "execution_count": 27,
   "id": "213f4e05",
   "metadata": {},
   "outputs": [
    {
     "name": "stdout",
     "output_type": "stream",
     "text": [
      "  endo_states exo_states                  aic\n",
      "0       ['r']         []         4,296,821.37\n",
      "1          []      ['r']         4,279,267.58\n",
      "2       ['l']         []         4,136,296.80\n",
      "3       ['g']         []         4,121,366.24\n",
      "4          []      ['l']         4,118,521.75\n",
      "5          []      ['g']         4,115,098.12\n",
      "6       ['i']         []         3,823,827.47\n",
      "7       ['l']      ['r']         3,806,278.11\n",
      "8       ['r']      ['l']         3,780,820.47\n",
      "9          []      ['i']         3,754,123.07\n"
     ]
    }
   ],
   "source": [
    "print(data_aic.head(10).loc[:,['endo_states', 'exo_states', 'aic']])"
   ]
  },
  {
   "cell_type": "code",
   "execution_count": 25,
   "id": "68813cd7",
   "metadata": {},
   "outputs": [
    {
     "data": {
      "text/plain": [
       "6349"
      ]
     },
     "execution_count": 25,
     "metadata": {},
     "output_type": "execute_result"
    }
   ],
   "source": [
    "data_aic[(data_aic['endo_states'] == \"['k']\") & (data_aic['exo_states'] == \"['z', 'g']\")].index[0]"
   ]
  },
  {
   "cell_type": "markdown",
   "id": "feefc916",
   "metadata": {},
   "source": [
    "## Log Likelihood"
   ]
  },
  {
   "cell_type": "code",
   "execution_count": 14,
   "id": "d7618f94",
   "metadata": {},
   "outputs": [],
   "source": [
    "data_ll = data.sort_values(by='loglik', ascending=False).reset_index()"
   ]
  },
  {
   "cell_type": "code",
   "execution_count": 15,
   "id": "9a4f0e48",
   "metadata": {},
   "outputs": [
    {
     "name": "stdout",
     "output_type": "stream",
     "text": [
      "            endo_states       exo_states               loglik\n",
      "0                    []  ['k', 'g', 'r']        19,490,138.70\n",
      "1            ['y', 'c']  ['k', 'z', 'g']        19,477,436.32\n",
      "2  ['y', 'c', 'z', 'r']  ['k', 'g', 'i']        19,459,969.45\n",
      "3  ['y', 'l', 'r', 'i']  ['k', 'z', 'g']        19,450,590.03\n",
      "4                 ['i']  ['k', 'z', 'g']        19,448,489.62\n",
      "5       ['c', 'l', 'z']  ['k', 'g', 'i']        19,447,374.64\n",
      "6  ['y', 'c', 'l', 'i']  ['k', 'z', 'g']        19,438,489.22\n",
      "7  ['c', 'z', 'r', 'w']  ['k', 'g', 'i']        19,424,714.81\n",
      "8  ['y', 'c', 'l', 'r']  ['k', 'z', 'g']        19,416,553.82\n",
      "9  ['y', 'c', 'r', 'i']  ['k', 'z', 'g']        19,411,841.94\n"
     ]
    }
   ],
   "source": [
    "print(data_ll.head(10).loc[:,['endo_states', 'exo_states', 'loglik']])"
   ]
  },
  {
   "cell_type": "code",
   "execution_count": 16,
   "id": "4642d7d4",
   "metadata": {},
   "outputs": [
    {
     "data": {
      "text/plain": [
       "10605"
      ]
     },
     "execution_count": 16,
     "metadata": {},
     "output_type": "execute_result"
    }
   ],
   "source": [
    "data_ll[(data_ll['endo_states'] == \"['k']\") & (data_ll['exo_states'] == \"['z', 'g']\")].index[0]"
   ]
  }
 ],
 "metadata": {
  "kernelspec": {
   "display_name": "Python 3",
   "language": "python",
   "name": "python3"
  },
  "language_info": {
   "codemirror_mode": {
    "name": "ipython",
    "version": 3
   },
   "file_extension": ".py",
   "mimetype": "text/x-python",
   "name": "python",
   "nbconvert_exporter": "python",
   "pygments_lexer": "ipython3",
   "version": "3.8.8"
  }
 },
 "nbformat": 4,
 "nbformat_minor": 5
}
