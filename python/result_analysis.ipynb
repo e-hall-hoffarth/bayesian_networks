{
 "cells": [
  {
   "cell_type": "code",
   "execution_count": null,
   "metadata": {},
   "outputs": [],
   "source": [
    "import pandas as pd\n",
    "import numpy as np\n",
    "import csv\n",
    "from statsmodels.api import OLS\n",
    "from state_space_estimation.dag import dag\n",
    "from sklearn.linear_model import LinearRegression\n",
    "%load_ext autoreload"
   ]
  },
  {
   "cell_type": "code",
   "execution_count": null,
   "metadata": {},
   "outputs": [],
   "source": [
    "rbc_results = pd.read_csv('../data/rbc_fullsample_0.05_results.csv')"
   ]
  },
  {
   "cell_type": "code",
   "execution_count": null,
   "metadata": {},
   "outputs": [],
   "source": [
    "rbc_results"
   ]
  },
  {
   "cell_type": "code",
   "execution_count": null,
   "metadata": {},
   "outputs": [],
   "source": [
    "rbc_wins = pd.read_csv('../data/rbc_100_0.05_1000iter_wins.csv')\n",
    "rbc_wins['exostates'] = rbc_wins['exo_states'].apply(lambda x: '   '.join(x.split('_')))\n",
    "rbc_wins['endostates'] = rbc_wins['endo_states'].apply(lambda x: '   '.join(x.split('_')))\n",
    "rbc_wins.drop(['exo_states', 'endo_states'], axis=1)\n",
    "rbc_wins['index'] = list(range(1,rbc_wins.shape[0]+1))\n",
    "rbc_wins = rbc_wins[['index', 'exostates', 'endostates', 'wins', 'valid']]\n",
    "\n",
    "rbc_wins.to_csv('../text/latex/algo/files/rbc_wins.csv', index=False, quoting=csv.QUOTE_NONE, escapechar='\\\\')"
   ]
  },
  {
   "cell_type": "code",
   "execution_count": null,
   "metadata": {},
   "outputs": [],
   "source": [
    "nk_wins = pd.read_csv('../data/nk_100_0.05_1000iter_wins.csv')\n",
    "nk_wins['exostates'] = nk_wins['exo_states'].fillna('').apply(lambda x: '   '.join(x.split('_')))\n",
    "nk_wins['endostates'] = nk_wins['endo_states'].fillna('').apply(lambda x: '   '.join(x.split('_')))\n",
    "nk_wins.drop(['exo_states', 'endo_states'], axis=1)\n",
    "nk_wins['index'] = list(range(1,nk_wins.shape[0]+1))\n",
    "nk_wins = nk_wins[['index', 'exostates', 'endostates', 'wins', 'valid']]\n",
    "nk_wins = nk_wins[nk_wins['wins'] > 0]\n",
    "\n",
    "nk_wins.to_csv('../text/latex/algo/files/nk_wins.csv', index=False, quoting=csv.QUOTE_NONE, escapechar='\\\\')"
   ]
  },
  {
   "cell_type": "code",
   "execution_count": null,
   "metadata": {},
   "outputs": [],
   "source": [
    "nk_wins"
   ]
  },
  {
   "cell_type": "code",
   "execution_count": null,
   "metadata": {},
   "outputs": [],
   "source": [
    "real_results = pd.read_csv('../data/real_0.05_results.csv')\n",
    "real_results.drop('Unnamed: 0', axis=1, inplace=True)\n",
    "real_results = real_results[['exo_states', 'endo_states', 'controls']]\n",
    "real_results['exostates'] = real_results['exo_states'].apply(lambda x: x.strip('[]').replace('''\\'''', '').replace(',', ''))\n",
    "real_results['endostates'] = real_results['endo_states'].apply(lambda x: x.strip('[]').replace('''\\'''', '').replace(',', ''))\n",
    "real_results['controls'] = real_results['controls'].apply(lambda x: x.strip('[]').replace('''\\'''', '').replace(',', ''))\n",
    "real_results.drop(['exo_states', 'endo_states'], axis=1, inplace=True)\n",
    "real_results['index'] = list(range(1,real_results.shape[0]+1))\n",
    "real_results = real_results[['index', 'exostates', 'endostates', 'controls']]\n",
    "real_results.to_csv('../text/latex/algo/files/realresults.csv', index=False, quoting=csv.QUOTE_NONE, escapechar='\\\\')"
   ]
  },
  {
   "cell_type": "code",
   "execution_count": null,
   "metadata": {},
   "outputs": [],
   "source": [
    "real_results"
   ]
  },
  {
   "cell_type": "code",
   "execution_count": null,
   "metadata": {},
   "outputs": [],
   "source": [
    "real_data = pd.read_csv(\"../data/real_data.csv\", index_col='DATE')"
   ]
  },
  {
   "cell_type": "code",
   "execution_count": null,
   "metadata": {
    "tags": []
   },
   "outputs": [],
   "source": [
    "def make_adjacency(exo_states, endo_states, controls, data, var=False):\n",
    "    data.drop([name for name in data.columns.values.tolist() if '_2' in name], axis=1, inplace=True)\n",
    "    data_names = data.columns.values.tolist()\n",
    "    data_current = [name for name in data_names if '_1' not in name]\n",
    "    data_lag = [name for name in data_names if '_1' in name]\n",
    "    implied_names = exo_states + endo_states + controls\n",
    "    \n",
    "    for name in implied_names:\n",
    "        if name not in data_names:\n",
    "            raise ValueError('Name {} missing from data'.format(name))\n",
    "        if str(name) + '_1' not in data_names:\n",
    "            raise ValueError('Lag of name {} missing from data'.format(name))\n",
    "        if any([name not in data_names for name in implied_names]) or any([name not in implied_names for name in data_current]):\n",
    "            print(data_current)\n",
    "            print(implied_names)\n",
    "            raise ValueError('Implied names and data do not align')\n",
    "    \n",
    "    names = data_names\n",
    "    d = len(data.columns)\n",
    "    result = pd.DataFrame(np.zeros((d, d)), columns=names, index=names)\n",
    "    \n",
    "    if var:\n",
    "        model = LinearRegression(fit_intercept=False)\n",
    "        model.fit(data[data_lag], data[data_current])\n",
    "        k = model.coef_.shape[0]\n",
    "        result = pd.DataFrame(\n",
    "                np.concatenate([np.concatenate((np.zeros((k, k)), np.zeros((k, k))), axis=1),\n",
    "                                np.concatenate((model.coef_.T, np.zeros((k, k))), axis=1)], \n",
    "                               axis=0),\n",
    "            columns=names, index=names\n",
    "        )\n",
    "    else:\n",
    "        for exo_state in exo_states:\n",
    "            model = LinearRegression(fit_intercept=False)\n",
    "            model.fit(data[[exo_state + '_1']], data[exo_state])\n",
    "            result.loc[exo_state + '_1', exo_state] = model.coef_[0]\n",
    "\n",
    "        for endo in endo_states + controls:\n",
    "            regressors = [es + '_1' for es in endo_states] + exo_states\n",
    "            model = LinearRegression(fit_intercept=False)\n",
    "            model.fit(data[regressors], data[endo])\n",
    "            coefs = {}\n",
    "            for i in range(len(regressors)):\n",
    "                coefs[regressors[i]] = model.coef_[i]\n",
    "            for x in regressors:\n",
    "                result.loc[x, endo] = coefs[x]\n",
    "    \n",
    "    return result\n",
    "\n",
    "\n",
    "def make_roles(states, data):\n",
    "    exo_names = []\n",
    "    endo_names = []\n",
    "    for state in states:\n",
    "        if '_1' in str(state):\n",
    "            endo_names.append(str(state).rstrip('_1'))\n",
    "        else:\n",
    "            exo_names.append(str(state))\n",
    "    controls = [name for name in data.columns.values if '_1' not in str(name) and name not in exo_names + endo_names]\n",
    "    \n",
    "    return exo_names, endo_names, controls"
   ]
  },
  {
   "cell_type": "code",
   "execution_count": null,
   "metadata": {},
   "outputs": [],
   "source": [
    "irf_length = 20\n",
    "shock_amt = -1\n",
    "shock_var = 'rm'"
   ]
  },
  {
   "cell_type": "code",
   "execution_count": null,
   "metadata": {
    "tags": []
   },
   "outputs": [],
   "source": [
    "%autoreload\n",
    "exo_states = ['y', 'z', 'u']\n",
    "endo_states = ['pi', 'k', 'c', 'rm']\n",
    "controls = ['g', 'i', 'w', 'rk', 'l']\n",
    "\n",
    "m = make_adjacency(exo_states, endo_states, controls, data=real_data, var=False)\n",
    "real_dag = dag(m)\n",
    "\n",
    "x_0 = pd.Series(np.full(len(real_dag.nodes), np.nan), index=real_dag.nodes)\n",
    "if shock_var in exo_states or shock_var in endo_states:\n",
    "    shock_index = np.where(real_data.columns == shock_var)[0]\n",
    "else:\n",
    "    raise ValueError('Cannot shock control variable {}'.format(shock_var))\n",
    "\n",
    "x_0[int(len(real_dag.nodes)/2):] = 0\n",
    "x_0[shock_index] = shock_amt\n",
    "\n",
    "real_irf = real_dag.calculate_irf(x_0, T=irf_length)\n",
    "plt = real_dag.plot_irf(real_irf)\n",
    "plt.savefig('../text/latex/algo/images/real_data_{}_irf.png'.format(shock_var), bbox_inches='tight')\n",
    "plt.show()"
   ]
  },
  {
   "cell_type": "code",
   "execution_count": null,
   "metadata": {},
   "outputs": [],
   "source": [
    "%autoreload\n",
    "exo_states = ['y', 'z', 'u']\n",
    "endo_states = ['pi', 'k', 'c', 'rm']\n",
    "controls = ['g', 'i', 'w', 'rk', 'l']\n",
    "\n",
    "m = make_adjacency(exo_states, endo_states, controls, data=real_data, var=True)\n",
    "real_dag = dag(m)\n",
    "\n",
    "x_0 = pd.Series(np.full(len(real_dag.nodes), np.nan), index=real_dag.nodes)\n",
    "if shock_var in exo_states or shock_var in endo_states:\n",
    "    shock_index = np.where(real_data.columns == shock_var)[0]\n",
    "else:\n",
    "    raise ValueError('Cannot shock control variable {}'.format(shock_var))\n",
    "\n",
    "x_0[int(len(real_dag.nodes)/2):] = 0\n",
    "x_0[shock_index] = shock_amt\n",
    "\n",
    "real_irf = real_dag.calculate_irf(x_0, T=irf_length)\n",
    "plt = real_dag.plot_irf(real_irf)\n",
    "plt.savefig('../text/latex/algo/images/real_data_{}_var_irf.png'.format(shock_var), bbox_inches='tight')\n",
    "plt.show()"
   ]
  }
 ],
 "metadata": {
  "kernelspec": {
   "display_name": "Python 3",
   "language": "python",
   "name": "python3"
  },
  "language_info": {
   "codemirror_mode": {
    "name": "ipython",
    "version": 3
   },
   "file_extension": ".py",
   "mimetype": "text/x-python",
   "name": "python",
   "nbconvert_exporter": "python",
   "pygments_lexer": "ipython3",
   "version": "3.8.5"
  }
 },
 "nbformat": 4,
 "nbformat_minor": 2
}
