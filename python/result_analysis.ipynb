{
 "metadata": {
  "language_info": {
   "codemirror_mode": {
    "name": "ipython",
    "version": 3
   },
   "file_extension": ".py",
   "mimetype": "text/x-python",
   "name": "python",
   "nbconvert_exporter": "python",
   "pygments_lexer": "ipython3",
   "version": "3.8.3-final"
  },
  "orig_nbformat": 2,
  "kernelspec": {
   "name": "python_defaultSpec_1599041703481",
   "display_name": "Python 3.8.3 32-bit"
  }
 },
 "nbformat": 4,
 "nbformat_minor": 2,
 "cells": [
  {
   "cell_type": "code",
   "execution_count": 27,
   "metadata": {},
   "outputs": [],
   "source": [
    "import pandas as pd\n",
    "import numpy as np\n",
    "import csv"
   ]
  },
  {
   "cell_type": "code",
   "execution_count": 4,
   "metadata": {},
   "outputs": [],
   "source": [
    "rbc_results = pd.read_csv('../data/rbc_fullsample_0.05_results.csv')"
   ]
  },
  {
   "cell_type": "code",
   "execution_count": 5,
   "metadata": {},
   "outputs": [
    {
     "output_type": "execute_result",
     "data": {
      "text/plain": "   Unnamed: 0  exo_states endo_states                        controls  valid  \\\n0         520  ['z', 'g']       ['k']  ['y', 'c', 'l', 'r', 'w', 'i']   True   \n\n   mean_pval  max_pval  min_pval        loglik           bic           aic  \\\n0   0.974318       1.0  0.200263  6.050694e+06 -1.210037e+07 -1.210121e+07   \n\n        mse  nstates  nexo  nendo  \n0  1.513836        3     2      1  ",
      "text/html": "<div>\n<style scoped>\n    .dataframe tbody tr th:only-of-type {\n        vertical-align: middle;\n    }\n\n    .dataframe tbody tr th {\n        vertical-align: top;\n    }\n\n    .dataframe thead th {\n        text-align: right;\n    }\n</style>\n<table border=\"1\" class=\"dataframe\">\n  <thead>\n    <tr style=\"text-align: right;\">\n      <th></th>\n      <th>Unnamed: 0</th>\n      <th>exo_states</th>\n      <th>endo_states</th>\n      <th>controls</th>\n      <th>valid</th>\n      <th>mean_pval</th>\n      <th>max_pval</th>\n      <th>min_pval</th>\n      <th>loglik</th>\n      <th>bic</th>\n      <th>aic</th>\n      <th>mse</th>\n      <th>nstates</th>\n      <th>nexo</th>\n      <th>nendo</th>\n    </tr>\n  </thead>\n  <tbody>\n    <tr>\n      <th>0</th>\n      <td>520</td>\n      <td>['z', 'g']</td>\n      <td>['k']</td>\n      <td>['y', 'c', 'l', 'r', 'w', 'i']</td>\n      <td>True</td>\n      <td>0.974318</td>\n      <td>1.0</td>\n      <td>0.200263</td>\n      <td>6.050694e+06</td>\n      <td>-1.210037e+07</td>\n      <td>-1.210121e+07</td>\n      <td>1.513836</td>\n      <td>3</td>\n      <td>2</td>\n      <td>1</td>\n    </tr>\n  </tbody>\n</table>\n</div>"
     },
     "metadata": {},
     "execution_count": 5
    }
   ],
   "source": [
    "rbc_results"
   ]
  },
  {
   "cell_type": "code",
   "execution_count": 50,
   "metadata": {},
   "outputs": [],
   "source": [
    "rbc_wins = pd.read_csv('../data/rbc_100_0.05_1000iter_wins.csv')\n",
    "rbc_wins['exostates'] = rbc_wins['exo_states'].apply(lambda x: '   '.join(x.split('_')))\n",
    "rbc_wins['endostates'] = rbc_wins['endo_states'].apply(lambda x: '   '.join(x.split('_')))\n",
    "rbc_wins.drop(['exo_states', 'endo_states'], axis=1)\n",
    "rbc_wins['index'] = list(range(1,rbc_wins.shape[0]+1))\n",
    "rbc_wins = rbc_wins[['index', 'exostates', 'endostates', 'wins', 'valid']]\n",
    "\n",
    "rbc_wins.to_csv('../text/latex/algo/files/rbc_wins.csv', index=False, quoting=csv.QUOTE_NONE, escapechar='\\\\')"
   ]
  },
  {
   "cell_type": "code",
   "execution_count": 47,
   "metadata": {},
   "outputs": [
    {
     "output_type": "execute_result",
     "data": {
      "text/plain": "835"
     },
     "metadata": {},
     "execution_count": 47
    }
   ],
   "source": [
    "1 + 18 + 144 + 672"
   ]
  },
  {
   "cell_type": "code",
   "execution_count": 49,
   "metadata": {},
   "outputs": [
    {
     "output_type": "execute_result",
     "data": {
      "text/plain": "   index exostates endostates  wins  valid\n0      1     g   z          k   888    997\n1      2     c   l          k   109    109\n2      3     g   r          k     2    941\n3      4     g   w          k     1    986\n4      5     g   y          k     0    974\n5      6     g   i          k     0    996\n6      7     c   g          k     0    200\n7      8     g   l          k     0      4",
      "text/html": "<div>\n<style scoped>\n    .dataframe tbody tr th:only-of-type {\n        vertical-align: middle;\n    }\n\n    .dataframe tbody tr th {\n        vertical-align: top;\n    }\n\n    .dataframe thead th {\n        text-align: right;\n    }\n</style>\n<table border=\"1\" class=\"dataframe\">\n  <thead>\n    <tr style=\"text-align: right;\">\n      <th></th>\n      <th>index</th>\n      <th>exostates</th>\n      <th>endostates</th>\n      <th>wins</th>\n      <th>valid</th>\n    </tr>\n  </thead>\n  <tbody>\n    <tr>\n      <th>0</th>\n      <td>1</td>\n      <td>g   z</td>\n      <td>k</td>\n      <td>888</td>\n      <td>997</td>\n    </tr>\n    <tr>\n      <th>1</th>\n      <td>2</td>\n      <td>c   l</td>\n      <td>k</td>\n      <td>109</td>\n      <td>109</td>\n    </tr>\n    <tr>\n      <th>2</th>\n      <td>3</td>\n      <td>g   r</td>\n      <td>k</td>\n      <td>2</td>\n      <td>941</td>\n    </tr>\n    <tr>\n      <th>3</th>\n      <td>4</td>\n      <td>g   w</td>\n      <td>k</td>\n      <td>1</td>\n      <td>986</td>\n    </tr>\n    <tr>\n      <th>4</th>\n      <td>5</td>\n      <td>g   y</td>\n      <td>k</td>\n      <td>0</td>\n      <td>974</td>\n    </tr>\n    <tr>\n      <th>5</th>\n      <td>6</td>\n      <td>g   i</td>\n      <td>k</td>\n      <td>0</td>\n      <td>996</td>\n    </tr>\n    <tr>\n      <th>6</th>\n      <td>7</td>\n      <td>c   g</td>\n      <td>k</td>\n      <td>0</td>\n      <td>200</td>\n    </tr>\n    <tr>\n      <th>7</th>\n      <td>8</td>\n      <td>g   l</td>\n      <td>k</td>\n      <td>0</td>\n      <td>4</td>\n    </tr>\n  </tbody>\n</table>\n</div>"
     },
     "metadata": {},
     "execution_count": 49
    }
   ],
   "source": [
    "rbc_wins"
   ]
  },
  {
   "cell_type": "code",
   "execution_count": 16,
   "metadata": {},
   "outputs": [
    {
     "output_type": "execute_result",
     "data": {
      "text/plain": "  exo_states endo_states  wins  valid\n0     (g, z)        (k,)   888    997\n1     (c, l)        (k,)   109    109\n2     (g, r)        (k,)     2    941\n3     (g, w)        (k,)     1    986\n4     (g, y)        (k,)     0    974\n5     (g, i)        (k,)     0    996\n6     (c, g)        (k,)     0    200\n7     (g, l)        (k,)     0      4",
      "text/html": "<div>\n<style scoped>\n    .dataframe tbody tr th:only-of-type {\n        vertical-align: middle;\n    }\n\n    .dataframe tbody tr th {\n        vertical-align: top;\n    }\n\n    .dataframe thead th {\n        text-align: right;\n    }\n</style>\n<table border=\"1\" class=\"dataframe\">\n  <thead>\n    <tr style=\"text-align: right;\">\n      <th></th>\n      <th>exo_states</th>\n      <th>endo_states</th>\n      <th>wins</th>\n      <th>valid</th>\n    </tr>\n  </thead>\n  <tbody>\n    <tr>\n      <th>0</th>\n      <td>(g, z)</td>\n      <td>(k,)</td>\n      <td>888</td>\n      <td>997</td>\n    </tr>\n    <tr>\n      <th>1</th>\n      <td>(c, l)</td>\n      <td>(k,)</td>\n      <td>109</td>\n      <td>109</td>\n    </tr>\n    <tr>\n      <th>2</th>\n      <td>(g, r)</td>\n      <td>(k,)</td>\n      <td>2</td>\n      <td>941</td>\n    </tr>\n    <tr>\n      <th>3</th>\n      <td>(g, w)</td>\n      <td>(k,)</td>\n      <td>1</td>\n      <td>986</td>\n    </tr>\n    <tr>\n      <th>4</th>\n      <td>(g, y)</td>\n      <td>(k,)</td>\n      <td>0</td>\n      <td>974</td>\n    </tr>\n    <tr>\n      <th>5</th>\n      <td>(g, i)</td>\n      <td>(k,)</td>\n      <td>0</td>\n      <td>996</td>\n    </tr>\n    <tr>\n      <th>6</th>\n      <td>(c, g)</td>\n      <td>(k,)</td>\n      <td>0</td>\n      <td>200</td>\n    </tr>\n    <tr>\n      <th>7</th>\n      <td>(g, l)</td>\n      <td>(k,)</td>\n      <td>0</td>\n      <td>4</td>\n    </tr>\n  </tbody>\n</table>\n</div>"
     },
     "metadata": {},
     "execution_count": 16
    }
   ],
   "source": [
    "rbc_wins"
   ]
  }
 ]
}